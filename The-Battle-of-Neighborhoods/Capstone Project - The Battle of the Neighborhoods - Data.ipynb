{
 "cells": [
  {
   "cell_type": "markdown",
   "metadata": {},
   "source": [
    "## Capstone Project - The Battle of the Neighborhoods \n",
    "### Applied Data Science Capstone by IBM/Coursera"
   ]
  },
  {
   "cell_type": "markdown",
   "metadata": {},
   "source": [
    "## Introduction: Business Problem \n",
    "\n",
    "This project aims to select the safest borough in London based on the **total crimes**, explore the **neighborhoods** of that borough to find the **10 most common venues** in each neighborhood and finally cluster the neighborhoods using **k-mean clustering**.\n",
    "\n",
    "This report will be targeted to people who are looking to **relocate to London**. Inorder to finalise a neighborhood to hunt for an apartment, **safety** is considered as a top concern when moving to a new place. If you don’t feel safe in your own home, you’re not going to be able to enjoy living there. The **crime statistics** will provide an insight into this issue.\n",
    "\n",
    "We will focus on the safest borough and explore its neighborhoods and the 10 most common venues in each neighborhood so that the best neighborhood suited to an individual's needs can be selected."
   ]
  },
  {
   "cell_type": "markdown",
   "metadata": {},
   "source": [
    "## Data\n",
    "\n",
    "Based on definition of our problem, factors that will influence our decision are:\n",
    "* The total number of crimes commited in each of the borough during the last year.\n",
    "* The most common venues in each of the neighborhood in the safest borough selected.\n",
    "\n",
    "Following data sources will be needed to extract/generate the required information:\n",
    "\n",
    "\n",
    "- **Part 1**: Preprocessing a real world data set from Kaggle showing the London Crimes from 2008 to 2016:  A dataset consisting of the crime statistics of each borough in London obtained from Kaggle. The data set has the following coloumns.\n",
    "    * lsoa_code: code for Lower Super Output Area in Greater London.\n",
    "    * borough: Common name for London borough.\n",
    "    * major_category: High level categorization of crime\n",
    "    * minor_category: Low level categorization of crime within major category.\n",
    "    * value: monthly reported count of categorical crime in given borough\n",
    "    * year: Year of reported counts, 2008-2016\n",
    "    * month: Month of reported counts, 1-12\n",
    "\n",
    "\n",
    "- **Part 2**: Scraping additional information of the different Boroughs in London from a Wikipedia page: More information regarding the boroughs of London is scraped using the Beautifulsoup library. The data set has the following coloumns.\n",
    "    * Inner: Categorizing the borough as an Inner London borough or an Outer London\n",
    "    * Borough.\n",
    "    * Status: Categorizing the borough as Royal, City or other borough.\n",
    "    * Local authority: The local authority assigned to the borough.\n",
    "    * Political control: The political party that control the borough.\n",
    "    * Headquarters: Headquarters of the Boroughs.\n",
    "    * Area (sq. mi): Area of the borough in square miles.\n",
    "    * Population (2013 Est) [1]: The population in the borough recorded during the\n",
    "    * year 2013.\n",
    "    * Co-ordinates: The latitude and longitude of the boroughs.\n",
    "    * Nr. in map: The number assigned to each borough to represent visually on a map.\n",
    "\n",
    "\n",
    "- **Part 3**: Creating a new dataset of the Neighborhoods of the safest borough in London and generating their co-ordinates: Co-ordinate of neighborhood will be obtained using **Foursquare API.** The data set has the following coloumns.\n",
    "    * Neighborhood: Name of the neighborhood in the Borough.\n",
    "    * Borough: Name of the Borough.\n",
    "    * Latitude: Latitude of the Borough.\n",
    "    * Longitude: Longitude of the Borough."
   ]
  },
  {
   "cell_type": "code",
   "execution_count": null,
   "metadata": {},
   "outputs": [],
   "source": []
  }
 ],
 "metadata": {
  "kernelspec": {
   "display_name": "Python 3",
   "language": "python",
   "name": "python3"
  },
  "language_info": {
   "codemirror_mode": {
    "name": "ipython",
    "version": 3
   },
   "file_extension": ".py",
   "mimetype": "text/x-python",
   "name": "python",
   "nbconvert_exporter": "python",
   "pygments_lexer": "ipython3",
   "version": "3.6.8"
  }
 },
 "nbformat": 4,
 "nbformat_minor": 2
}
